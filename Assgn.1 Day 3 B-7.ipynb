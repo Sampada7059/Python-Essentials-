{
 "cells": [
  {
   "cell_type": "code",
   "execution_count": 16,
   "metadata": {},
   "outputs": [
    {
     "name": "stdout",
     "output_type": "stream",
     "text": [
      "enter the altitude required for landing 1000\n",
      "Correct altitude for landing\n"
     ]
    }
   ],
   "source": [
    "#Landing a plane at the required altitude\n",
    "x = int(input(\"enter the altitude required for landing \"))\n",
    "if x<=1000 :\n",
    "    print(\"Correct altitude for landing\")\n",
    "elif 1000<x<5000 :\n",
    "    print(\"Please come down to 1000ft\")\n",
    "else :\n",
    "    print(\"Please go around and try later\")\n"
   ]
  },
  {
   "cell_type": "code",
   "execution_count": 17,
   "metadata": {},
   "outputs": [
    {
     "name": "stdout",
     "output_type": "stream",
     "text": [
      "enter the altitude required for landing 2500\n",
      "Please come down to 1000ft\n"
     ]
    }
   ],
   "source": [
    "#Landing a plane at the required altitude\n",
    "x = int(input(\"enter the altitude required for landing \"))\n",
    "if x<=1000 :\n",
    "    print(\"Correct altitude for landing\")\n",
    "elif 1000<x<5000 :\n",
    "    print(\"Please come down to 1000ft\")\n",
    "else :\n",
    "    print(\"Please go around and try later\")\n"
   ]
  },
  {
   "cell_type": "code",
   "execution_count": 18,
   "metadata": {},
   "outputs": [
    {
     "name": "stdout",
     "output_type": "stream",
     "text": [
      "enter the altitude required for landing 6000\n",
      "Please go around and try later\n"
     ]
    }
   ],
   "source": [
    "#Landing a plane at the required altitude\n",
    "x = int(input(\"enter the altitude required for landing \"))\n",
    "if x<=1000 :\n",
    "    print(\"Correct altitude for landing\")\n",
    "elif 1000<x<5000 :\n",
    "    print(\"Please come down to 1000ft\")\n",
    "else :\n",
    "    print(\"Please go around and try later\")\n"
   ]
  },
  {
   "cell_type": "code",
   "execution_count": null,
   "metadata": {},
   "outputs": [],
   "source": []
  }
 ],
 "metadata": {
  "kernelspec": {
   "display_name": "Python 3",
   "language": "python",
   "name": "python3"
  },
  "language_info": {
   "codemirror_mode": {
    "name": "ipython",
    "version": 3
   },
   "file_extension": ".py",
   "mimetype": "text/x-python",
   "name": "python",
   "nbconvert_exporter": "python",
   "pygments_lexer": "ipython3",
   "version": "3.7.6"
  }
 },
 "nbformat": 4,
 "nbformat_minor": 4
}
